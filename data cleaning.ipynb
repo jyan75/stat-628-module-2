{
 "cells": [
  {
   "cell_type": "code",
   "execution_count": null,
   "metadata": {},
   "outputs": [],
   "source": [
    "bodyfat <- read.table('BodyFat.txt',header = T,sep = ',')\n",
    "colnames(bodyfat)\n",
    "attach(bodyfat)"
   ]
  },
  {
   "cell_type": "code",
   "execution_count": null,
   "metadata": {},
   "outputs": [],
   "source": [
    "plot(BODYFAT,1/DENSITY,type = 'n')\n",
    "text(BODYFAT,1/DENSITY,IDNO)\n",
    "bodyfat[216,]#keep, very big ADIPOSITY and ABDOMEN\n",
    "bodyfat[172,]#keep, very small ADIPOSITY and ABDOMEN"
   ]
  },
  {
   "cell_type": "markdown",
   "metadata": {},
   "source": []
  },
  {
   "cell_type": "code",
   "execution_count": null,
   "metadata": {},
   "outputs": [],
   "source": []
  }
 ],
 "metadata": {
  "kernelspec": {
   "display_name": "R",
   "language": "R",
   "name": "ir"
  },
  "language_info": {
   "codemirror_mode": "r",
   "file_extension": ".r",
   "mimetype": "text/x-r-source",
   "name": "R",
   "pygments_lexer": "r",
   "version": "3.5.0"
  }
 },
 "nbformat": 4,
 "nbformat_minor": 2
}
